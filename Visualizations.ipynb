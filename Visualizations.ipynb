{
 "cells": [
  {
   "cell_type": "markdown",
   "metadata": {},
   "source": [
    "This notebook is based on the excellent tutorial \"Humble Intro to Analysis with Pandas and Seaborn\" by Chris Crawford that you may find [here](https://www.kaggle.com/crawford/humble-intro-to-analysis-with-pandas-and-seaborn/notebook)."
   ]
  },
  {
   "cell_type": "code",
   "execution_count": 2,
   "metadata": {
    "collapsed": true
   },
   "outputs": [],
   "source": [
    "# Import libraries\n",
    "# Numpy for arrays and series\n",
    "import numpy as np\n",
    "\n",
    "#Pandas for dataframes\n",
    "import pandas as pd\n",
    "\n",
    "#Matplotlib for plotting graphs\n",
    "import matplotlib.pyplot as plt\n",
    "\n",
    "#Seaborn for more advanced graphs\n",
    "import seaborn as sns\n",
    "\n",
    "#inline matplotlib\n",
    "%matplotlib inline"
   ]
  },
  {
   "cell_type": "code",
   "execution_count": 3,
   "metadata": {
    "collapsed": true
   },
   "outputs": [],
   "source": [
    "# Import the data from the csv file. \n",
    "# The data file is not stored in this repo so it has to be downloaded from the link above.\n",
    "database = 'database.csv'\n",
    "\n",
    "# Create a DataFrame named df with the content of the csv file\n",
    "# Due to size we are suppressing low memory warnings\n",
    "df = pd.read_csv(database, low_memory=False)"
   ]
  },
  {
   "cell_type": "markdown",
   "metadata": {},
   "source": [
    "The next few cells contain some simple commands to begin our exploration of the data"
   ]
  },
  {
   "cell_type": "code",
   "execution_count": 3,
   "metadata": {
    "collapsed": false
   },
   "outputs": [
    {
     "data": {
      "text/plain": [
       "(174104, 66)"
      ]
     },
     "execution_count": 3,
     "metadata": {},
     "output_type": "execute_result"
    }
   ],
   "source": [
    "# shape (rows, columns)\n",
    "df.shape"
   ]
  },
  {
   "cell_type": "code",
   "execution_count": 4,
   "metadata": {
    "collapsed": false
   },
   "outputs": [
    {
     "data": {
      "text/html": [
       "<div>\n",
       "<table border=\"1\" class=\"dataframe\">\n",
       "  <thead>\n",
       "    <tr style=\"text-align: right;\">\n",
       "      <th></th>\n",
       "      <th>Record ID</th>\n",
       "      <th>Incident Year</th>\n",
       "      <th>Incident Month</th>\n",
       "      <th>Incident Day</th>\n",
       "      <th>Operator ID</th>\n",
       "      <th>Operator</th>\n",
       "      <th>Aircraft</th>\n",
       "      <th>Aircraft Type</th>\n",
       "      <th>Aircraft Make</th>\n",
       "      <th>Aircraft Model</th>\n",
       "      <th>...</th>\n",
       "      <th>Fuselage Strike</th>\n",
       "      <th>Fuselage Damage</th>\n",
       "      <th>Landing Gear Strike</th>\n",
       "      <th>Landing Gear Damage</th>\n",
       "      <th>Tail Strike</th>\n",
       "      <th>Tail Damage</th>\n",
       "      <th>Lights Strike</th>\n",
       "      <th>Lights Damage</th>\n",
       "      <th>Other Strike</th>\n",
       "      <th>Other Damage</th>\n",
       "    </tr>\n",
       "  </thead>\n",
       "  <tbody>\n",
       "    <tr>\n",
       "      <th>0</th>\n",
       "      <td>127128</td>\n",
       "      <td>1990</td>\n",
       "      <td>1</td>\n",
       "      <td>1</td>\n",
       "      <td>DAL</td>\n",
       "      <td>DELTA AIR LINES</td>\n",
       "      <td>B-757-200</td>\n",
       "      <td>A</td>\n",
       "      <td>148</td>\n",
       "      <td>26</td>\n",
       "      <td>...</td>\n",
       "      <td>0</td>\n",
       "      <td>0</td>\n",
       "      <td>0</td>\n",
       "      <td>0</td>\n",
       "      <td>1</td>\n",
       "      <td>1</td>\n",
       "      <td>0</td>\n",
       "      <td>0</td>\n",
       "      <td>0</td>\n",
       "      <td>0</td>\n",
       "    </tr>\n",
       "    <tr>\n",
       "      <th>1</th>\n",
       "      <td>129779</td>\n",
       "      <td>1990</td>\n",
       "      <td>1</td>\n",
       "      <td>1</td>\n",
       "      <td>HAL</td>\n",
       "      <td>HAWAIIAN AIR</td>\n",
       "      <td>DC-9</td>\n",
       "      <td>A</td>\n",
       "      <td>583</td>\n",
       "      <td>90</td>\n",
       "      <td>...</td>\n",
       "      <td>0</td>\n",
       "      <td>0</td>\n",
       "      <td>0</td>\n",
       "      <td>0</td>\n",
       "      <td>0</td>\n",
       "      <td>0</td>\n",
       "      <td>0</td>\n",
       "      <td>0</td>\n",
       "      <td>1</td>\n",
       "      <td>0</td>\n",
       "    </tr>\n",
       "    <tr>\n",
       "      <th>2</th>\n",
       "      <td>129780</td>\n",
       "      <td>1990</td>\n",
       "      <td>1</td>\n",
       "      <td>2</td>\n",
       "      <td>UNK</td>\n",
       "      <td>UNKNOWN</td>\n",
       "      <td>UNKNOWN</td>\n",
       "      <td>NaN</td>\n",
       "      <td>NaN</td>\n",
       "      <td>NaN</td>\n",
       "      <td>...</td>\n",
       "      <td>0</td>\n",
       "      <td>0</td>\n",
       "      <td>0</td>\n",
       "      <td>0</td>\n",
       "      <td>0</td>\n",
       "      <td>0</td>\n",
       "      <td>0</td>\n",
       "      <td>0</td>\n",
       "      <td>0</td>\n",
       "      <td>0</td>\n",
       "    </tr>\n",
       "    <tr>\n",
       "      <th>3</th>\n",
       "      <td>2258</td>\n",
       "      <td>1990</td>\n",
       "      <td>1</td>\n",
       "      <td>3</td>\n",
       "      <td>MIL</td>\n",
       "      <td>MILITARY</td>\n",
       "      <td>A-10A</td>\n",
       "      <td>A</td>\n",
       "      <td>345</td>\n",
       "      <td>NaN</td>\n",
       "      <td>...</td>\n",
       "      <td>0</td>\n",
       "      <td>0</td>\n",
       "      <td>0</td>\n",
       "      <td>0</td>\n",
       "      <td>0</td>\n",
       "      <td>0</td>\n",
       "      <td>0</td>\n",
       "      <td>0</td>\n",
       "      <td>0</td>\n",
       "      <td>0</td>\n",
       "    </tr>\n",
       "    <tr>\n",
       "      <th>4</th>\n",
       "      <td>2257</td>\n",
       "      <td>1990</td>\n",
       "      <td>1</td>\n",
       "      <td>3</td>\n",
       "      <td>MIL</td>\n",
       "      <td>MILITARY</td>\n",
       "      <td>F-16</td>\n",
       "      <td>A</td>\n",
       "      <td>561</td>\n",
       "      <td>NaN</td>\n",
       "      <td>...</td>\n",
       "      <td>0</td>\n",
       "      <td>0</td>\n",
       "      <td>0</td>\n",
       "      <td>0</td>\n",
       "      <td>0</td>\n",
       "      <td>0</td>\n",
       "      <td>0</td>\n",
       "      <td>0</td>\n",
       "      <td>0</td>\n",
       "      <td>0</td>\n",
       "    </tr>\n",
       "  </tbody>\n",
       "</table>\n",
       "<p>5 rows × 66 columns</p>\n",
       "</div>"
      ],
      "text/plain": [
       "   Record ID  Incident Year  Incident Month  Incident Day Operator ID  \\\n",
       "0     127128           1990               1             1         DAL   \n",
       "1     129779           1990               1             1         HAL   \n",
       "2     129780           1990               1             2         UNK   \n",
       "3       2258           1990               1             3         MIL   \n",
       "4       2257           1990               1             3         MIL   \n",
       "\n",
       "          Operator   Aircraft Aircraft Type Aircraft Make Aircraft Model  \\\n",
       "0  DELTA AIR LINES  B-757-200             A           148             26   \n",
       "1     HAWAIIAN AIR       DC-9             A           583             90   \n",
       "2          UNKNOWN    UNKNOWN           NaN           NaN            NaN   \n",
       "3         MILITARY      A-10A             A           345            NaN   \n",
       "4         MILITARY       F-16             A           561            NaN   \n",
       "\n",
       "      ...       Fuselage Strike  Fuselage Damage Landing Gear Strike  \\\n",
       "0     ...                     0                0                   0   \n",
       "1     ...                     0                0                   0   \n",
       "2     ...                     0                0                   0   \n",
       "3     ...                     0                0                   0   \n",
       "4     ...                     0                0                   0   \n",
       "\n",
       "   Landing Gear Damage Tail Strike Tail Damage  Lights Strike Lights Damage  \\\n",
       "0                    0           1           1              0             0   \n",
       "1                    0           0           0              0             0   \n",
       "2                    0           0           0              0             0   \n",
       "3                    0           0           0              0             0   \n",
       "4                    0           0           0              0             0   \n",
       "\n",
       "   Other Strike Other Damage  \n",
       "0             0            0  \n",
       "1             1            0  \n",
       "2             0            0  \n",
       "3             0            0  \n",
       "4             0            0  \n",
       "\n",
       "[5 rows x 66 columns]"
      ]
     },
     "execution_count": 4,
     "metadata": {},
     "output_type": "execute_result"
    }
   ],
   "source": [
    "# head(n) - show only the first n rows in the dataframe, n = 5 by default\n",
    "df.head()"
   ]
  },
  {
   "cell_type": "code",
   "execution_count": 5,
   "metadata": {
    "collapsed": false
   },
   "outputs": [
    {
     "data": {
      "text/html": [
       "<div>\n",
       "<table border=\"1\" class=\"dataframe\">\n",
       "  <thead>\n",
       "    <tr style=\"text-align: right;\">\n",
       "      <th></th>\n",
       "      <th>Record ID</th>\n",
       "      <th>Incident Year</th>\n",
       "      <th>Incident Month</th>\n",
       "      <th>Incident Day</th>\n",
       "      <th>Operator ID</th>\n",
       "      <th>Operator</th>\n",
       "      <th>Aircraft</th>\n",
       "      <th>Aircraft Type</th>\n",
       "      <th>Aircraft Make</th>\n",
       "      <th>Aircraft Model</th>\n",
       "      <th>...</th>\n",
       "      <th>Fuselage Strike</th>\n",
       "      <th>Fuselage Damage</th>\n",
       "      <th>Landing Gear Strike</th>\n",
       "      <th>Landing Gear Damage</th>\n",
       "      <th>Tail Strike</th>\n",
       "      <th>Tail Damage</th>\n",
       "      <th>Lights Strike</th>\n",
       "      <th>Lights Damage</th>\n",
       "      <th>Other Strike</th>\n",
       "      <th>Other Damage</th>\n",
       "    </tr>\n",
       "  </thead>\n",
       "  <tbody>\n",
       "    <tr>\n",
       "      <th>174097</th>\n",
       "      <td>365836</td>\n",
       "      <td>2015</td>\n",
       "      <td>9</td>\n",
       "      <td>30</td>\n",
       "      <td>ASQ</td>\n",
       "      <td>EXPRESSJET AIRLINES</td>\n",
       "      <td>EMB-135</td>\n",
       "      <td>A</td>\n",
       "      <td>332</td>\n",
       "      <td>13</td>\n",
       "      <td>...</td>\n",
       "      <td>0</td>\n",
       "      <td>0</td>\n",
       "      <td>0</td>\n",
       "      <td>0</td>\n",
       "      <td>0</td>\n",
       "      <td>0</td>\n",
       "      <td>0</td>\n",
       "      <td>0</td>\n",
       "      <td>0</td>\n",
       "      <td>0</td>\n",
       "    </tr>\n",
       "    <tr>\n",
       "      <th>174098</th>\n",
       "      <td>365837</td>\n",
       "      <td>2015</td>\n",
       "      <td>9</td>\n",
       "      <td>30</td>\n",
       "      <td>FDX</td>\n",
       "      <td>FEDEX EXPRESS</td>\n",
       "      <td>DC-10-10</td>\n",
       "      <td>A</td>\n",
       "      <td>583</td>\n",
       "      <td>24</td>\n",
       "      <td>...</td>\n",
       "      <td>0</td>\n",
       "      <td>0</td>\n",
       "      <td>0</td>\n",
       "      <td>0</td>\n",
       "      <td>0</td>\n",
       "      <td>0</td>\n",
       "      <td>0</td>\n",
       "      <td>0</td>\n",
       "      <td>0</td>\n",
       "      <td>0</td>\n",
       "    </tr>\n",
       "    <tr>\n",
       "      <th>174099</th>\n",
       "      <td>366091</td>\n",
       "      <td>2015</td>\n",
       "      <td>9</td>\n",
       "      <td>30</td>\n",
       "      <td>SWA</td>\n",
       "      <td>SOUTHWEST AIRLINES</td>\n",
       "      <td>B-737-700</td>\n",
       "      <td>A</td>\n",
       "      <td>148</td>\n",
       "      <td>42</td>\n",
       "      <td>...</td>\n",
       "      <td>0</td>\n",
       "      <td>0</td>\n",
       "      <td>0</td>\n",
       "      <td>0</td>\n",
       "      <td>0</td>\n",
       "      <td>0</td>\n",
       "      <td>0</td>\n",
       "      <td>0</td>\n",
       "      <td>0</td>\n",
       "      <td>0</td>\n",
       "    </tr>\n",
       "    <tr>\n",
       "      <th>174100</th>\n",
       "      <td>365902</td>\n",
       "      <td>2015</td>\n",
       "      <td>9</td>\n",
       "      <td>30</td>\n",
       "      <td>SWA</td>\n",
       "      <td>SOUTHWEST AIRLINES</td>\n",
       "      <td>B-737-700</td>\n",
       "      <td>A</td>\n",
       "      <td>148</td>\n",
       "      <td>42</td>\n",
       "      <td>...</td>\n",
       "      <td>0</td>\n",
       "      <td>0</td>\n",
       "      <td>0</td>\n",
       "      <td>0</td>\n",
       "      <td>0</td>\n",
       "      <td>0</td>\n",
       "      <td>0</td>\n",
       "      <td>0</td>\n",
       "      <td>0</td>\n",
       "      <td>0</td>\n",
       "    </tr>\n",
       "    <tr>\n",
       "      <th>174101</th>\n",
       "      <td>365903</td>\n",
       "      <td>2015</td>\n",
       "      <td>9</td>\n",
       "      <td>30</td>\n",
       "      <td>BUS</td>\n",
       "      <td>BUSINESS</td>\n",
       "      <td>CITATIONJET</td>\n",
       "      <td>A</td>\n",
       "      <td>226</td>\n",
       "      <td>49</td>\n",
       "      <td>...</td>\n",
       "      <td>1</td>\n",
       "      <td>1</td>\n",
       "      <td>0</td>\n",
       "      <td>0</td>\n",
       "      <td>0</td>\n",
       "      <td>0</td>\n",
       "      <td>0</td>\n",
       "      <td>0</td>\n",
       "      <td>0</td>\n",
       "      <td>0</td>\n",
       "    </tr>\n",
       "    <tr>\n",
       "      <th>174102</th>\n",
       "      <td>366046</td>\n",
       "      <td>2015</td>\n",
       "      <td>9</td>\n",
       "      <td>30</td>\n",
       "      <td>QXE</td>\n",
       "      <td>HORIZON AIR</td>\n",
       "      <td>DHC8 DASH 8</td>\n",
       "      <td>A</td>\n",
       "      <td>303</td>\n",
       "      <td>10</td>\n",
       "      <td>...</td>\n",
       "      <td>1</td>\n",
       "      <td>0</td>\n",
       "      <td>0</td>\n",
       "      <td>0</td>\n",
       "      <td>0</td>\n",
       "      <td>0</td>\n",
       "      <td>0</td>\n",
       "      <td>0</td>\n",
       "      <td>0</td>\n",
       "      <td>0</td>\n",
       "    </tr>\n",
       "    <tr>\n",
       "      <th>174103</th>\n",
       "      <td>365823</td>\n",
       "      <td>2015</td>\n",
       "      <td>9</td>\n",
       "      <td>30</td>\n",
       "      <td>AWI</td>\n",
       "      <td>AIR WISCONSIN AIRLINES</td>\n",
       "      <td>CRJ100/200</td>\n",
       "      <td>A</td>\n",
       "      <td>188</td>\n",
       "      <td>10</td>\n",
       "      <td>...</td>\n",
       "      <td>0</td>\n",
       "      <td>0</td>\n",
       "      <td>0</td>\n",
       "      <td>0</td>\n",
       "      <td>0</td>\n",
       "      <td>0</td>\n",
       "      <td>0</td>\n",
       "      <td>0</td>\n",
       "      <td>1</td>\n",
       "      <td>0</td>\n",
       "    </tr>\n",
       "  </tbody>\n",
       "</table>\n",
       "<p>7 rows × 66 columns</p>\n",
       "</div>"
      ],
      "text/plain": [
       "        Record ID  Incident Year  Incident Month  Incident Day Operator ID  \\\n",
       "174097     365836           2015               9            30         ASQ   \n",
       "174098     365837           2015               9            30         FDX   \n",
       "174099     366091           2015               9            30         SWA   \n",
       "174100     365902           2015               9            30         SWA   \n",
       "174101     365903           2015               9            30         BUS   \n",
       "174102     366046           2015               9            30         QXE   \n",
       "174103     365823           2015               9            30         AWI   \n",
       "\n",
       "                      Operator     Aircraft Aircraft Type Aircraft Make  \\\n",
       "174097     EXPRESSJET AIRLINES      EMB-135             A           332   \n",
       "174098           FEDEX EXPRESS     DC-10-10             A           583   \n",
       "174099      SOUTHWEST AIRLINES    B-737-700             A           148   \n",
       "174100      SOUTHWEST AIRLINES    B-737-700             A           148   \n",
       "174101                BUSINESS  CITATIONJET             A           226   \n",
       "174102             HORIZON AIR  DHC8 DASH 8             A           303   \n",
       "174103  AIR WISCONSIN AIRLINES   CRJ100/200             A           188   \n",
       "\n",
       "       Aircraft Model     ...       Fuselage Strike  Fuselage Damage  \\\n",
       "174097             13     ...                     0                0   \n",
       "174098             24     ...                     0                0   \n",
       "174099             42     ...                     0                0   \n",
       "174100             42     ...                     0                0   \n",
       "174101             49     ...                     1                1   \n",
       "174102             10     ...                     1                0   \n",
       "174103             10     ...                     0                0   \n",
       "\n",
       "       Landing Gear Strike  Landing Gear Damage Tail Strike Tail Damage  \\\n",
       "174097                   0                    0           0           0   \n",
       "174098                   0                    0           0           0   \n",
       "174099                   0                    0           0           0   \n",
       "174100                   0                    0           0           0   \n",
       "174101                   0                    0           0           0   \n",
       "174102                   0                    0           0           0   \n",
       "174103                   0                    0           0           0   \n",
       "\n",
       "        Lights Strike Lights Damage  Other Strike Other Damage  \n",
       "174097              0             0             0            0  \n",
       "174098              0             0             0            0  \n",
       "174099              0             0             0            0  \n",
       "174100              0             0             0            0  \n",
       "174101              0             0             0            0  \n",
       "174102              0             0             0            0  \n",
       "174103              0             0             1            0  \n",
       "\n",
       "[7 rows x 66 columns]"
      ]
     },
     "execution_count": 5,
     "metadata": {},
     "output_type": "execute_result"
    }
   ],
   "source": [
    "# tail(n) - the last n rows in the dataframe, n = 5 by default\n",
    "df.tail(7)"
   ]
  },
  {
   "cell_type": "code",
   "execution_count": 6,
   "metadata": {
    "collapsed": false
   },
   "outputs": [
    {
     "data": {
      "text/plain": [
       "Index(['Record ID', 'Incident Year', 'Incident Month', 'Incident Day',\n",
       "       'Operator ID', 'Operator', 'Aircraft', 'Aircraft Type', 'Aircraft Make',\n",
       "       'Aircraft Model', 'Aircraft Mass', 'Engine Make', 'Engine Model',\n",
       "       'Engines', 'Engine Type', 'Engine1 Position', 'Engine2 Position',\n",
       "       'Engine3 Position', 'Engine4 Position', 'Airport ID', 'Airport',\n",
       "       'State', 'FAA Region', 'Warning Issued', 'Flight Phase', 'Visibility',\n",
       "       'Precipitation', 'Height', 'Speed', 'Distance', 'Species ID',\n",
       "       'Species Name', 'Species Quantity', 'Flight Impact', 'Fatalities',\n",
       "       'Injuries', 'Aircraft Damage', 'Radome Strike', 'Radome Damage',\n",
       "       'Windshield Strike', 'Windshield Damage', 'Nose Strike', 'Nose Damage',\n",
       "       'Engine1 Strike', 'Engine1 Damage', 'Engine2 Strike', 'Engine2 Damage',\n",
       "       'Engine3 Strike', 'Engine3 Damage', 'Engine4 Strike', 'Engine4 Damage',\n",
       "       'Engine Ingested', 'Propeller Strike', 'Propeller Damage',\n",
       "       'Wing or Rotor Strike', 'Wing or Rotor Damage', 'Fuselage Strike',\n",
       "       'Fuselage Damage', 'Landing Gear Strike', 'Landing Gear Damage',\n",
       "       'Tail Strike', 'Tail Damage', 'Lights Strike', 'Lights Damage',\n",
       "       'Other Strike', 'Other Damage'],\n",
       "      dtype='object')"
      ]
     },
     "execution_count": 6,
     "metadata": {},
     "output_type": "execute_result"
    }
   ],
   "source": [
    "# display a list of columns\n",
    "df.columns"
   ]
  },
  {
   "cell_type": "code",
   "execution_count": 7,
   "metadata": {
    "collapsed": false
   },
   "outputs": [
    {
     "data": {
      "text/plain": [
       "RangeIndex(start=0, stop=174104, step=1)"
      ]
     },
     "execution_count": 7,
     "metadata": {},
     "output_type": "execute_result"
    }
   ],
   "source": [
    "# display information about the index\n",
    "df.index"
   ]
  },
  {
   "cell_type": "markdown",
   "metadata": {},
   "source": [
    "From the quick views above there seem to be some UNKNOWNs and NaNs in the data. So some cleaning will be necessary."
   ]
  },
  {
   "cell_type": "code",
   "execution_count": 10,
   "metadata": {
    "collapsed": false
   },
   "outputs": [
    {
     "name": "stdout",
     "output_type": "stream",
     "text": [
      "<class 'pandas.core.frame.DataFrame'>\n",
      "RangeIndex: 174104 entries, 0 to 174103\n",
      "Data columns (total 66 columns):\n",
      "Record ID               174104 non-null int64\n",
      "Incident Year           174104 non-null int64\n",
      "Incident Month          174104 non-null int64\n",
      "Incident Day            174104 non-null int64\n",
      "Operator ID             174104 non-null object\n",
      "Operator                174104 non-null object\n",
      "Aircraft                174104 non-null object\n",
      "Aircraft Type           133074 non-null object\n",
      "Aircraft Make           131051 non-null object\n",
      "Aircraft Model          122439 non-null object\n",
      "Aircraft Mass           127320 non-null float64\n",
      "Engine Make             123434 non-null float64\n",
      "Engine Model            121988 non-null object\n",
      "Engines                 127342 non-null float64\n",
      "Engine Type             127282 non-null object\n",
      "Engine1 Position        126193 non-null object\n",
      "Engine2 Position        118715 non-null float64\n",
      "Engine3 Position        11659 non-null object\n",
      "Engine4 Position        3092 non-null float64\n",
      "Airport ID              174104 non-null object\n",
      "Airport                 173814 non-null object\n",
      "State                   152128 non-null object\n",
      "FAA Region              155202 non-null object\n",
      "Warning Issued          76418 non-null object\n",
      "Flight Phase            118802 non-null object\n",
      "Visibility              109933 non-null object\n",
      "Precipitation           88322 non-null object\n",
      "Height                  103677 non-null float64\n",
      "Speed                   71258 non-null float64\n",
      "Distance                99713 non-null float64\n",
      "Species ID              174104 non-null object\n",
      "Species Name            174024 non-null object\n",
      "Species Quantity        169627 non-null object\n",
      "Flight Impact           99465 non-null object\n",
      "Fatalities              565 non-null float64\n",
      "Injuries                229 non-null float64\n",
      "Aircraft Damage         174104 non-null int64\n",
      "Radome Strike           174104 non-null int64\n",
      "Radome Damage           174104 non-null int64\n",
      "Windshield Strike       174104 non-null int64\n",
      "Windshield Damage       174104 non-null int64\n",
      "Nose Strike             174104 non-null int64\n",
      "Nose Damage             174104 non-null int64\n",
      "Engine1 Strike          174104 non-null int64\n",
      "Engine1 Damage          174104 non-null int64\n",
      "Engine2 Strike          174104 non-null int64\n",
      "Engine2 Damage          174104 non-null int64\n",
      "Engine3 Strike          174104 non-null int64\n",
      "Engine3 Damage          174104 non-null int64\n",
      "Engine4 Strike          174104 non-null int64\n",
      "Engine4 Damage          174104 non-null int64\n",
      "Engine Ingested         174104 non-null int64\n",
      "Propeller Strike        174104 non-null int64\n",
      "Propeller Damage        174104 non-null int64\n",
      "Wing or Rotor Strike    174104 non-null int64\n",
      "Wing or Rotor Damage    174104 non-null int64\n",
      "Fuselage Strike         174104 non-null int64\n",
      "Fuselage Damage         174104 non-null int64\n",
      "Landing Gear Strike     174104 non-null int64\n",
      "Landing Gear Damage     174104 non-null int64\n",
      "Tail Strike             174104 non-null int64\n",
      "Tail Damage             174104 non-null int64\n",
      "Lights Strike           174104 non-null int64\n",
      "Lights Damage           174104 non-null int64\n",
      "Other Strike            174104 non-null int64\n",
      "Other Damage            174104 non-null int64\n",
      "dtypes: float64(10), int64(34), object(22)\n",
      "memory usage: 87.7+ MB\n"
     ]
    }
   ],
   "source": [
    "# display list of columns with datatypes and counts\n",
    "df.info()"
   ]
  },
  {
   "cell_type": "markdown",
   "metadata": {},
   "source": [
    "Several columns are of type object, that can cause a problem. Several columns have less than 174104 non-null values. We can re-read the data with options to remove nulls."
   ]
  },
  {
   "cell_type": "code",
   "execution_count": 4,
   "metadata": {
    "collapsed": false
   },
   "outputs": [],
   "source": [
    "df = pd.read_csv(database,\n",
    "                low_memory=False,\n",
    "                na_values=['UNKNOWN', 'UNK'], #Add these to the list of NULLS\n",
    "                na_filter=True,\n",
    "                skip_blank_lines=True)\n"
   ]
  },
  {
   "cell_type": "code",
   "execution_count": 12,
   "metadata": {
    "collapsed": false
   },
   "outputs": [
    {
     "data": {
      "text/plain": [
       "(174104, 66)"
      ]
     },
     "execution_count": 12,
     "metadata": {},
     "output_type": "execute_result"
    }
   ],
   "source": [
    "#And just to see what we got\n",
    "df.shape"
   ]
  },
  {
   "cell_type": "code",
   "execution_count": 5,
   "metadata": {
    "collapsed": false
   },
   "outputs": [
    {
     "name": "stdout",
     "output_type": "stream",
     "text": [
      "<class 'pandas.core.frame.DataFrame'>\n",
      "RangeIndex: 111175 entries, 0 to 111174\n",
      "Data columns (total 8 columns):\n",
      "Incident Year     111175 non-null int64\n",
      "Incident Month    111175 non-null int64\n",
      "Incident Day      111175 non-null int64\n",
      "Operator          111175 non-null object\n",
      "State             111175 non-null object\n",
      "Airport           111175 non-null object\n",
      "Flight Phase      111175 non-null object\n",
      "Species Name      111175 non-null object\n",
      "dtypes: int64(3), object(5)\n",
      "memory usage: 6.8+ MB\n"
     ]
    }
   ],
   "source": [
    "# Restrict the columns\n",
    "column_list = [\"Incident Year\",\n",
    "              \"Incident Month\",\n",
    "              \"Incident Day\",\n",
    "              \"Operator\",\n",
    "              \"State\",\n",
    "              \"Airport\",\n",
    "              \"Flight Phase\",\n",
    "              \"Species Name\"]\n",
    "\n",
    "# Create a new dataframe\n",
    "df = pd.DataFrame(data=df, columns=column_list)\n",
    "\n",
    "# Drop all nulls\n",
    "df = df.dropna(thresh=8)\n",
    "\n",
    "# reset the index because we dropped several rows\n",
    "df = df.reset_index(drop=True)\n",
    "\n",
    "df.info()"
   ]
  },
  {
   "cell_type": "markdown",
   "metadata": {},
   "source": [
    "value_counts(): counts the number of ocurences of a value in the array\n",
    "get_values(): unique list of values in the array"
   ]
  },
  {
   "cell_type": "code",
   "execution_count": 15,
   "metadata": {
    "collapsed": false
   },
   "outputs": [
    {
     "data": {
      "text/plain": [
       "BUSINESS              12290\n",
       "SOUTHWEST AIRLINES    12080\n",
       "AMERICAN AIRLINES      8627\n",
       "MILITARY               7891\n",
       "UNITED AIRLINES        7797\n",
       "DELTA AIR LINES        5384\n",
       "FEDEX EXPRESS          5250\n",
       "1US AIRWAYS            3660\n",
       "UPS AIRLINES           2936\n",
       "SKYWEST AIRLINES       2762\n",
       "Name: Operator, dtype: int64"
      ]
     },
     "execution_count": 15,
     "metadata": {},
     "output_type": "execute_result"
    }
   ],
   "source": [
    "# Show number of incidents per operator (only the top ten)\n",
    "df[\"Operator\"].value_counts().head(10)"
   ]
  },
  {
   "cell_type": "code",
   "execution_count": 22,
   "metadata": {
    "collapsed": false
   },
   "outputs": [
    {
     "data": {
      "image/png": "[encoded data removed]",
      "text/plain": [
       "<matplotlib.figure.Figure at 0x11acbe7f0>"
      ]
     },
     "metadata": {},
     "output_type": "display_data"
    }
   ],
   "source": [
    "# Now to draw a bar plot\n",
    "# get the counts per operator\n",
    "operator_counts = df.Operator.value_counts()\n",
    "\n",
    "#extract just the names from that list for convenience\n",
    "operators = operator_counts.index\n",
    "\n",
    "# extract the counts from the list for convenience\n",
    "counts = operator_counts.get_values()\n",
    "\n",
    "# create the barplot\n",
    "\n",
    "#rotate the x labels to make them fit better\n",
    "plt.xticks(rotation=90)\n",
    "\n",
    "# label the x-axis\n",
    "plt.xlabel(\"Airline Operators\", fontsize=20)\n",
    "\n",
    "# label the y-axis\n",
    "plt.ylabel(\"Number of incidents\", fontsize=20)\n",
    "\n",
    "# Add a main title\n",
    "plt.title(\"Birdstrikes per Operator\", fontsize=25)\n",
    "\n",
    "# only try to plot the first 10 as the full list will be useless\n",
    "barplot = sns.barplot(x=operators[:10], y=counts[:10])\n",
    "\n"
   ]
  },
  {
   "cell_type": "markdown",
   "metadata": {},
   "source": [
    "Potentially change the colours in the plot by reading this [article](http://seaborn.pydata.org/tutorial/color_palettes.html) or this [article](https://chrisalbon.com/python/seaborn_color_palettes.html)."
   ]
  },
  {
   "cell_type": "code",
   "execution_count": 6,
   "metadata": {
    "collapsed": false
   },
   "outputs": [
    {
     "data": {
      "image/png": "[encoded data removed]",
      "text/plain": [
       "<matplotlib.figure.Figure at 0x1064be710>"
      ]
     },
     "metadata": {},
     "output_type": "display_data"
    }
   ],
   "source": [
    "# Chart showing strikes per month\n",
    "# label the x-axis\n",
    "plt.xlabel(\"Months\", fontsize=20)\n",
    "\n",
    "# label the y-axis\n",
    "plt.ylabel(\"Number of incidents\", fontsize=20)\n",
    "\n",
    "# Add a main title\n",
    "plt.title(\"Birdstrikes per Month\", fontsize=25)\n",
    "\n",
    "# get the counts per month\n",
    "month_counts = df['Incident Month'].value_counts()\n",
    "\n",
    "#extract just the names  of months from that list for convenience\n",
    "months = month_counts.index\n",
    "\n",
    "# extract the counts from the list for convenience\n",
    "counts = month_counts.get_values()\n",
    "\n",
    "\n",
    "barplot = sns.barplot(x=months, y=counts)"
   ]
  },
  {
   "cell_type": "code",
   "execution_count": 7,
   "metadata": {
    "collapsed": false
   },
   "outputs": [
    {
     "data": {
      "image/png": "[encoded data removed]",
      "text/plain": [
       "<matplotlib.figure.Figure at 0x113ebfac8>"
      ]
     },
     "metadata": {},
     "output_type": "display_data"
    }
   ],
   "source": [
    "# Chart showing strikes per flight phase\n",
    "# label the x-axis\n",
    "plt.xlabel(\"Flight Phase\", fontsize=20)\n",
    "\n",
    "# label the y-axis\n",
    "plt.ylabel(\"Number of incidents\", fontsize=20)\n",
    "\n",
    "# Add a main title\n",
    "plt.title(\"Birdstrikes per Flight Phase\", fontsize=25)\n",
    "\n",
    "# get the counts per phase\n",
    "phase_counts = df['Flight Phase'].value_counts()\n",
    "\n",
    "#extract just the names  of phases from that list for convenience\n",
    "phases = phase_counts.index\n",
    "\n",
    "# extract the counts from the list for convenience\n",
    "counts = phase_counts.get_values()\n",
    "\n",
    "#rotate the x labels to make them fit better\n",
    "plt.xticks(rotation=90)\n",
    "\n",
    "barplot = sns.barplot(x=phases, y=counts)"
   ]
  },
  {
   "cell_type": "code",
   "execution_count": null,
   "metadata": {
    "collapsed": true
   },
   "outputs": [],
   "source": []
  }
 ],
 "metadata": {
  "kernelspec": {
   "display_name": "Python 3",
   "language": "python",
   "name": "python3"
  },
  "language_info": {
   "codemirror_mode": {
    "name": "ipython",
    "version": 3
   },
   "file_extension": ".py",
   "mimetype": "text/x-python",
   "name": "python",
   "nbconvert_exporter": "python",
   "pygments_lexer": "ipython3",
   "version": "3.6.0"
  }
 },
 "nbformat": 4,
 "nbformat_minor": 2
}
